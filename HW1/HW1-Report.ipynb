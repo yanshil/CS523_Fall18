{
 "cells": [
  {
   "cell_type": "markdown",
   "metadata": {},
   "source": [
    "## Example Code"
   ]
  },
  {
   "cell_type": "code",
   "execution_count": 8,
   "metadata": {},
   "outputs": [
    {
     "data": {
      "image/png": "[encoded data removed]",
      "text/plain": [
       "<Figure size 432x288 with 1 Axes>"
      ]
     },
     "metadata": {},
     "output_type": "display_data"
    }
   ],
   "source": [
    "%matplotlib inline\n",
    "\n",
    "import matplotlib\n",
    "import numpy as np\n",
    "import matplotlib.pyplot as plt\n",
    "from scipy.optimize import fsolve\n",
    "\n",
    "u = [2]\n",
    "v = [2]\n",
    "h = .12\n",
    "for i in range(1,100):\n",
    "    u_new = u[i-1] + h*u[i-1]*(v[i-1]-2.)\n",
    "    v_new = v[i-1] + h*v[i-1]*(1.-u[i-1])\n",
    "    u.append(u_new)\n",
    "    v.append(v_new)\n",
    "\n",
    "plt.plot(u,v,'ro')\n",
    "plt.axis([0,6,0,10])\n",
    "plt.show()"
   ]
  },
  {
   "cell_type": "markdown",
   "metadata": {},
   "source": [
    "## Problem 1\n",
    "$\\Delta t = 0.12$, Backward Euler\n",
    "\n",
    "1. (4,8)\n",
    "2. (4,2)\n",
    "3. (6,2)\n",
    "\n",
    "### Backward Euler\n",
    "\n",
    "$u^n = u^{n-1} + \\Delta t u^{n-1} \\{\\frac{v^{n-1}}{1-\\Delta t (1- u^n)} - 2\\}$\n",
    "\n",
    "$v^n = \\frac{v^{n-1}}{1-\\Delta t (1-u^n)}$\n"
   ]
  },
  {
   "cell_type": "code",
   "execution_count": 13,
   "metadata": {},
   "outputs": [
    {
     "data": {
      "image/png": "[encoded data removed]",
      "text/plain": [
       "<Figure size 432x288 with 1 Axes>"
      ]
     },
     "metadata": {},
     "output_type": "display_data"
    }
   ],
   "source": [
    "def backwardEuler(u,v,h):\n",
    "    for i in range(1,100):\n",
    "    # Reference: https://stackoverflow.com/questions/22742951/solve-an-equation-using-a-python-numerical-solver-in-numpy\n",
    "        func = lambda tau : tau - u[i-1] - h * u[i-1] * ( (v[i-1] / (1- h * (1-tau))) - 2)\n",
    "\n",
    "        tau = np.linspace(-10, 10, 201)\n",
    "        tau_initial_guess = 0.5\n",
    "\n",
    "        u_new = fsolve(func, tau_initial_guess)\n",
    "\n",
    "        v_new = v[i-1] / (1 - h * (1 - u_new))\n",
    "\n",
    "        u.append(u_new)\n",
    "        v.append(v_new)\n",
    "\n",
    "    plt.plot(u,v,'ro')\n",
    "    plt.axis([0,6,0,10])\n",
    "    plt.title('u0=%s, v0=%s, h=%s' % (u[0], v[0], h))\n",
    "    plt.show()\n",
    "    return;\n",
    "\n",
    "\n",
    "backwardEuler([4],[8],.12)"
   ]
  },
  {
   "cell_type": "markdown",
   "metadata": {},
   "source": [
    "## Sympletic Euler\n",
    "\n",
    "$u^{n+1} = u^n + \\Delta t u^n(v^{n+1} - 2)$\n",
    "\n",
    "$v^{n+1} = v^n + \\Delta t v^n(1- u^{n})$"
   ]
  },
  {
   "cell_type": "code",
   "execution_count": 10,
   "metadata": {},
   "outputs": [
    {
     "data": {
      "image/png": "[encoded data removed]",
      "text/plain": [
       "<Figure size 432x288 with 1 Axes>"
      ]
     },
     "metadata": {},
     "output_type": "display_data"
    },
    {
     "data": {
      "image/png": "[encoded data removed]",
      "text/plain": [
       "<Figure size 432x288 with 1 Axes>"
      ]
     },
     "metadata": {},
     "output_type": "display_data"
    }
   ],
   "source": [
    "def sympleticEuler(u,v,h):\n",
    "    for i in range(1,100):\n",
    "        v_new = v[i-1] + h * v[i-1] * (1.0 -u[i-1])\n",
    "        u_new = u[i-1] + h * u[i-1] * (v_new - 2)\n",
    "\n",
    "        u.append(u_new)\n",
    "        v.append(v_new)\n",
    "\n",
    "    plt.plot(u,v,'ro')\n",
    "    plt.axis([0,6,0,10])\n",
    "    plt.title('u0=%s, v0=%s, h=%s' % (u[0], v[0], h))\n",
    "    plt.show()\n",
    "    return;\n",
    "\n",
    "sympleticEuler([4],[2],.12)\n",
    "sympleticEuler([6],[2],.12)"
   ]
  },
  {
   "cell_type": "markdown",
   "metadata": {},
   "source": [
    "## Problem 2\n",
    "Implement a rigid body simulator for a freely falling object with some initial angular velocity and upward linear velocity. (Please do not use a sphere, so that the effect of rotations is clearly visible.)\n",
    "\n",
    "* Implemented with MATLAB, please see code at `rotateRB.m`. Simultaion is outputed as `.gif`."
   ]
  },
  {
   "cell_type": "markdown",
   "metadata": {},
   "source": [
    "### `rotateRB.m`\n",
    "\n",
    "```\n",
    "d = [-1 1];\n",
    "[x,y,z]= meshgrid(d,d,d);\n",
    "points = [x(:),y(:),z(:)];\n",
    "\n",
    "r = points';\n",
    "r0 = points';\n",
    "\n",
    "Ibody = 0;\n",
    "for i = 1:8\n",
    "    Ibody = Ibody + 1/8 *(r0(:,i)' * r0(:,i) * eye(3) - r0(:,i) * r0(:,i)');\n",
    "end\n",
    "\n",
    "Ibodyinv = inv(Ibody);\n",
    "\n",
    "%% Rigid Body\n",
    "\n",
    "mass = 1;\n",
    "v = [0,0,9.8]';\n",
    "omega = [0.05,0.02,0.01]';\n",
    "\n",
    "%% function: getTorque.m\n",
    "\n",
    "function [torque] = getTorque(r,x,F)\n",
    "torque = 0;\n",
    "for i =1:8\n",
    "    torque = torque + cross((r(:,i) - x), F/8);\n",
    "end\n",
    "\n",
    "end\n",
    "\n",
    "%% Initialization\n",
    "x = [0,0,0]';\n",
    "F = [0,0,-9.8]' * mass;\n",
    "q = [0,0,0,1];\n",
    "q = quatnormalize(q);\n",
    "P = v * mass;\n",
    "R = quat2rotm(q);\n",
    "I = R * Ibody * R';\n",
    "L = I * omega;\n",
    "\n",
    "torque = getTorque(r,x,F);\n",
    "\n",
    "%% Set up display faces\n",
    "\n",
    "faces = [1 2 6 5;\n",
    "    1 5 7 3;\n",
    "    5 6 8 7;\n",
    "    7 3 4 8;\n",
    "    4 8 6 2;\n",
    "    1 3 4 2];\n",
    "\n",
    "%% Iterate\n",
    "\n",
    "h = 0.008; % timestep\n",
    "frame = 0;\n",
    "while x >= -1\n",
    "    \n",
    "    frame = frame + 1;\n",
    "    \n",
    "    v = P / mass;\n",
    "    x = x + v * h;\n",
    "\n",
    "    q  = q + 1/2 * quatmultiply([0;omega]', q);\n",
    "    q = quatnormalize(q);\n",
    "\n",
    "    R = quat2rotm(q);\n",
    "\n",
    "    P = P + F * h;\n",
    "    \n",
    "    I = R * Ibody * R'; % Keeps the same\n",
    "    \n",
    "    L = L + torque * h; % torque = 0\n",
    "    \n",
    "    omega = inv(I) * L; % Keeps the same\n",
    "    \n",
    "    for j = 1:8\n",
    "        r(:,j) = R * r0(:,j) + x;\n",
    "    end\n",
    "    \n",
    "    torque = getTorque(r,x,F);\n",
    "    \n",
    "    newplot\n",
    "    patch('Faces',faces,'Vertices',r', 'FaceVertexCData',hsv(8),'FaceColor','interp')\n",
    "    title(sprintf('v = [%.2f,%.2f,%.2f], omega = [%.2f,%.2f,%.2f]', v(1),v(2),v(3),omega(1),omega(2),omega(3)))\n",
    "    view(3)\n",
    "    xlim([-4 4])\n",
    "    ylim([-4 4])\n",
    "    zlim([-2 8])\n",
    "    axis vis3d\n",
    "    alpha(0.3) \n",
    "    \n",
    "    saveas(gcf,sprintf('./png/%04d.png', frame))\n",
    "    \n",
    " end\n",
    "```"
   ]
  }
 ],
 "metadata": {
  "kernelspec": {
   "display_name": "Python 3",
   "language": "python",
   "name": "python3"
  },
  "language_info": {
   "codemirror_mode": {
    "name": "ipython",
    "version": 3
   },
   "file_extension": ".py",
   "mimetype": "text/x-python",
   "name": "python",
   "nbconvert_exporter": "python",
   "pygments_lexer": "ipython3",
   "version": "3.6.5"
  }
 },
 "nbformat": 4,
 "nbformat_minor": 2
}
